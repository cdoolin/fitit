{
 "metadata": {
  "name": "",
  "signature": "sha256:0672381d816569685400766add5dc9bb8acacb98ee9225a384bf4bf2aec063e6"
 },
 "nbformat": 3,
 "nbformat_minor": 0,
 "worksheets": [
  {
   "cells": [
    {
     "cell_type": "code",
     "collapsed": false,
     "input": [
      "%pylab inline\n",
      "import fitit"
     ],
     "language": "python",
     "metadata": {},
     "outputs": [
      {
       "output_type": "stream",
       "stream": "stdout",
       "text": [
        "Populating the interactive namespace from numpy and matplotlib\n"
       ]
      }
     ],
     "prompt_number": 1
    },
    {
     "cell_type": "code",
     "collapsed": false,
     "input": [
      "reload(fitit)"
     ],
     "language": "python",
     "metadata": {},
     "outputs": [
      {
       "metadata": {},
       "output_type": "pyout",
       "prompt_number": 2,
       "text": [
        "<module 'fitit' from 'fitit.pyc'>"
       ]
      }
     ],
     "prompt_number": 2
    },
    {
     "cell_type": "code",
     "collapsed": false,
     "input": [
      "xs = linspace(0, 10, 20)\n",
      "\n",
      "ys1 = xs * .8 + rand(20)\n",
      "ys2 = xs * 1.3 + rand(20)\n",
      "\n",
      "figure()\n",
      "plot(xs, ys1, 'ro')\n",
      "plot(xs, ys2, 'go')"
     ],
     "language": "python",
     "metadata": {},
     "outputs": [
      {
       "metadata": {},
       "output_type": "pyout",
       "prompt_number": 3,
       "text": [
        "[<matplotlib.lines.Line2D at 0x112cd69d0>]"
       ]
      },
      {
       "metadata": {},
       "output_type": "display_data",
       "png": "[encoded data removed]",
       "text": [
        "<matplotlib.figure.Figure at 0x112cd6350>"
       ]
      }
     ],
     "prompt_number": 3
    },
    {
     "cell_type": "markdown",
     "metadata": {},
     "source": [
      "# 1d fit"
     ]
    },
    {
     "cell_type": "code",
     "collapsed": false,
     "input": [
      "p0 = fitit.Params('m b')\n",
      "p0.m = 1.\n",
      "p0.b = 1.\n",
      "\n",
      "def fitfunc(x, p):\n",
      "    return p.m * x + p.b\n",
      "\n",
      "popt = fitit.fit(fitfunc, xs, ys1, p0)\n",
      "\n",
      "figure()\n",
      "plot(xs, ys1, 'ro')\n",
      "plot(xs, fitfunc(xs, popt))"
     ],
     "language": "python",
     "metadata": {},
     "outputs": [
      {
       "metadata": {},
       "output_type": "pyout",
       "prompt_number": 4,
       "text": [
        "[<matplotlib.lines.Line2D at 0x112d28710>]"
       ]
      },
      {
       "metadata": {},
       "output_type": "display_data",
       "png": "[encoded data removed]",
       "text": [
        "<matplotlib.figure.Figure at 0x112d35190>"
       ]
      }
     ],
     "prompt_number": 4
    },
    {
     "cell_type": "markdown",
     "metadata": {},
     "source": [
      "# 2d fit"
     ]
    },
    {
     "cell_type": "code",
     "collapsed": false,
     "input": [
      "p0 = fitit.Params('m b')\n",
      "p0.m = 1.\n",
      "p0.b = 1.\n",
      "\n",
      "def fitfunc(x, p):\n",
      "    return [\n",
      "        p.m * x + p.b,\n",
      "        1.5 * p.m * x + p.b,\n",
      "    ]\n",
      "\n",
      "popt = fitit.fit(fitfunc, xs, [ys1, ys2], p0)\n",
      "\n",
      "figure()\n",
      "plot(xs, ys1, 'bo')\n",
      "plot(xs, ys2, 'go')\n",
      "plot(xs, fitfunc(xs, popt)[0])\n",
      "plot(xs, fitfunc(xs, popt)[1])\n",
      "\n",
      "print popt\n",
      "print popt.errors"
     ],
     "language": "python",
     "metadata": {},
     "outputs": [
      {
       "output_type": "stream",
       "stream": "stdout",
       "text": [
        " m: 0.855341\n",
        " b: 0.35936\n",
        "{'b': 0.1486390767806271, 'm': 0.019935467857770332}\n"
       ]
      },
      {
       "metadata": {},
       "output_type": "display_data",
       "png": "[encoded data removed]",
       "text": [
        "<matplotlib.figure.Figure at 0x112ef31d0>"
       ]
      }
     ],
     "prompt_number": 5
    },
    {
     "cell_type": "code",
     "collapsed": false,
     "input": [],
     "language": "python",
     "metadata": {},
     "outputs": [],
     "prompt_number": 5
    }
   ],
   "metadata": {}
  }
 ]
}